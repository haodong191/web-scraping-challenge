{
 "cells": [
  {
   "cell_type": "code",
   "execution_count": 1,
   "id": "ab1126c8-cbf9-469e-b0d6-8fb1041fefee",
   "metadata": {},
   "outputs": [],
   "source": [
    "from splinter import Browser\n",
    "from bs4 import BeautifulSoup\n",
    "import pandas as pd\n",
    "import requests\n",
    "import pymongo\n",
    "from flask import Flask, render_template, redirect\n",
    "from flask_pymongo import PyMongo\n",
    "import time\n",
    "from webdriver_manager.chrome import ChromeDriverManager"
   ]
  },
  {
   "cell_type": "code",
   "execution_count": 2,
   "id": "edf401d5-1d9f-4917-9ccc-5d8d21e16e15",
   "metadata": {},
   "outputs": [
    {
     "name": "stderr",
     "output_type": "stream",
     "text": [
      "\n",
      "\n",
      "====== WebDriver manager ======\n",
      "Current google-chrome version is 92.0.4515\n",
      "Get LATEST driver version for 92.0.4515\n",
      "Driver [C:\\Users\\Hao\\.wdm\\drivers\\chromedriver\\win32\\92.0.4515.107\\chromedriver.exe] found in cache\n"
     ]
    }
   ],
   "source": [
    "executable_path = {'executable_path': ChromeDriverManager().install()}\n",
    "browser = Browser('chrome', **executable_path, headless=False)"
   ]
  },
  {
   "cell_type": "code",
   "execution_count": 3,
   "id": "403ac932-1672-447f-8d71-aab8bc7a1167",
   "metadata": {},
   "outputs": [],
   "source": [
    "#NASA Mars News blow"
   ]
  },
  {
   "cell_type": "code",
   "execution_count": 3,
   "id": "0dbd5c5f-29de-48b5-97e8-a6b9a9b3e94d",
   "metadata": {},
   "outputs": [],
   "source": [
    "#wait 5-10 seconds after running this cell for the page itself to load. The html will not parse all code if the next cell is clicked to quickly.\n",
    "browser.visit('https://redplanetscience.com/')"
   ]
  },
  {
   "cell_type": "code",
   "execution_count": 4,
   "id": "47e85f0e-5f5e-4a8c-8e59-5ac7949496d0",
   "metadata": {},
   "outputs": [],
   "source": [
    "news_html = browser.html\n",
    "soup = BeautifulSoup(news_html, 'html.parser')"
   ]
  },
  {
   "cell_type": "code",
   "execution_count": 7,
   "id": "4d06e88f-2e1a-4244-9a56-79c6bdc576d3",
   "metadata": {},
   "outputs": [],
   "source": [
    "results = soup.find_all('div', class_='list_text')"
   ]
  },
  {
   "cell_type": "code",
   "execution_count": 10,
   "id": "aa819471-0fe3-40a7-bdb1-7d85504aab31",
   "metadata": {},
   "outputs": [
    {
     "name": "stdout",
     "output_type": "stream",
     "text": [
      "-----------------\n",
      "NASA to Reveal Name of Its Next Mars Rover\n",
      "After a months-long contest among students to name NASA's newest Mars rover, the agency will reveal the winning name — and the winning student — this Thursday. \n",
      "-----------------\n",
      "Celebrate Mars Reconnaissance Orbiter's Views From Above\n",
      "Marking its 15th anniversary since launch, one of the oldest spacecraft at the Red Planet has provided glimpses of dust devils, avalanches, and more.\n",
      "-----------------\n",
      "NASA Establishes Board to Initially Review Mars Sample Return Plans\n",
      "The board will assist with analysis of current plans and goals for one of the most difficult missions humanity has ever undertaken.\n",
      "-----------------\n",
      "Mars 2020 Unwrapped and Ready for More Testing\n",
      "In time-lapse video, bunny-suited engineers remove the inner layer of protective foil on NASA's Mars 2020 rover after it was relocated for testing.\n",
      "-----------------\n",
      "Media Get a Close-Up of NASA's Mars 2020 Rover\n",
      "The clean room at NASA's Jet Propulsion Laboratory was open to the media to see NASA's next Mars explorer before it leaves for Florida in preparation for a summertime launch.\n",
      "-----------------\n",
      "Common Questions about InSight's 'Mole'\n",
      "The following Q&As with members of the team answer some of the most common questions about the burrowing device, part of a science instrument called the Heat Flow and Physical Properties Package (HP3).\n",
      "-----------------\n",
      "Air Deliveries Bring NASA's Perseverance Mars Rover Closer to Launch\n",
      "A NASA Wallops Flight Facility cargo plane transported more than two tons of equipment — including the rover's sample collection tubes — to Florida for this summer's liftoff.\n",
      "-----------------\n",
      "NASA's Perseverance Rover Attached to Atlas V Rocket\n",
      "Ready for its launch later in the month, the Mars-bound rover will touch terra firma no more.\n",
      "-----------------\n",
      "NASA's Push to Save the Mars InSight Lander's Heat Probe\n",
      "The scoop on the end of the spacecraft's robotic arm will be used to 'pin' the mole against the wall of its hole.\n",
      "-----------------\n",
      "NASA Engineers Checking InSight's Weather Sensors\n",
      "An electronics issue is suspected to be preventing the sensors from sharing their data about Mars weather with the spacecraft.\n",
      "-----------------\n",
      "NASA Updates Mars 2020 Mission Environmental Review\n",
      "NASA and the Department of Energy have completed a more detailed risk analysis for the Mars 2020 rover launch from Florida.\n",
      "-----------------\n",
      "Mars InSight Lander to Push on Top of the 'Mole'\n",
      "Engineers have a plan for pushing down on the heat probe, which has been stuck at the Martian surface for a year.\n",
      "-----------------\n",
      "InSight's 'Mole' Team Peers into the Pit\n",
      "Efforts to save the heat probe continue.\n",
      "-----------------\n",
      "Join NASA for the Launch of the Mars 2020 Perseverance Rover\n",
      "No matter where you live, choose from a menu of activities to join NASA as we \"Countdown to Mars\" and launch the Perseverance rover to the Red Planet.\n",
      "-----------------\n",
      "NASA's Perseverance Rover 100 Days Out\n",
      "Mark your calendars: The agency's latest rover has only about 8,640,000 seconds to go before it touches down on the Red Planet, becoming history's next Mars car.\n"
     ]
    }
   ],
   "source": [
    "for result in results:\n",
    "        news_title = result.find('div', class_='content_title').text\n",
    "        news_p = result.find('div', class_='article_teaser_body').text\n",
    "        \n",
    "        print('-----------------')\n",
    "        print(news_title)\n",
    "        print(news_p)"
   ]
  },
  {
   "cell_type": "code",
   "execution_count": null,
   "id": "8d52e071-5b32-4ef5-b078-9c0a94cfbaf2",
   "metadata": {},
   "outputs": [],
   "source": [
    "#JPL Mars Space Images below"
   ]
  },
  {
   "cell_type": "code",
   "execution_count": 39,
   "id": "54edf6e6-91ba-4acf-b461-9877c8efca56",
   "metadata": {},
   "outputs": [],
   "source": [
    "browser.visit('https://spaceimages-mars.com/')"
   ]
  },
  {
   "cell_type": "code",
   "execution_count": 48,
   "id": "b72eb3a3-407b-4452-9c7f-1d5d4f701bb5",
   "metadata": {},
   "outputs": [],
   "source": [
    "baseurl = 'https://spaceimages-mars.com/'"
   ]
  },
  {
   "cell_type": "code",
   "execution_count": 40,
   "id": "99a75552-9fa2-4c28-a79f-9a0f5035da52",
   "metadata": {},
   "outputs": [],
   "source": [
    "browser.links.find_by_partial_text('FULL IMAGE').click()"
   ]
  },
  {
   "cell_type": "code",
   "execution_count": 43,
   "id": "32bf4350-a1f8-4ee3-8f78-20e911bfcd5a",
   "metadata": {},
   "outputs": [],
   "source": [
    "image_html = browser.html\n",
    "image_soup = BeautifulSoup(image_html, 'html.parser')"
   ]
  },
  {
   "cell_type": "code",
   "execution_count": 44,
   "id": "9fe66af2-f3c7-4b79-b40c-cd5c81932de8",
   "metadata": {},
   "outputs": [],
   "source": [
    "image_results = image_soup.find('img', class_='fancybox-image')['src']"
   ]
  },
  {
   "cell_type": "code",
   "execution_count": 51,
   "id": "23419c71-6158-4b44-9908-83cd6567500f",
   "metadata": {},
   "outputs": [
    {
     "data": {
      "text/plain": [
       "'https://spaceimages-mars.com/image/featured/mars2.jpg'"
      ]
     },
     "execution_count": 51,
     "metadata": {},
     "output_type": "execute_result"
    }
   ],
   "source": [
    "featured_image_url = baseurl + image_results\n",
    "featured_image_url "
   ]
  },
  {
   "cell_type": "code",
   "execution_count": null,
   "id": "c373271a-161d-402e-96e1-8a5687437418",
   "metadata": {},
   "outputs": [],
   "source": []
  },
  {
   "cell_type": "code",
   "execution_count": null,
   "id": "97efeba4-8646-4c5c-8755-9dfbe97be75a",
   "metadata": {},
   "outputs": [],
   "source": []
  },
  {
   "cell_type": "code",
   "execution_count": null,
   "id": "279fd119-8b46-4c92-a67a-f01b7d841930",
   "metadata": {},
   "outputs": [],
   "source": []
  }
 ],
 "metadata": {
  "kernelspec": {
   "display_name": "Python 3",
   "language": "python",
   "name": "python3"
  },
  "language_info": {
   "codemirror_mode": {
    "name": "ipython",
    "version": 3
   },
   "file_extension": ".py",
   "mimetype": "text/x-python",
   "name": "python",
   "nbconvert_exporter": "python",
   "pygments_lexer": "ipython3",
   "version": "3.7.10"
  }
 },
 "nbformat": 4,
 "nbformat_minor": 5
}

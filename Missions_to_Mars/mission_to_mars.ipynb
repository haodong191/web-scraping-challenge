{
 "cells": [
  {
   "cell_type": "code",
   "execution_count": 1,
   "id": "ab1126c8-cbf9-469e-b0d6-8fb1041fefee",
   "metadata": {},
   "outputs": [],
   "source": [
    "from splinter import Browser\n",
    "from bs4 import BeautifulSoup\n",
    "import pandas as pd\n",
    "import requests\n",
    "import pymongo\n",
    "from flask import Flask, render_template, redirect\n",
    "from flask_pymongo import PyMongo\n",
    "import time\n",
    "from webdriver_manager.chrome import ChromeDriverManager"
   ]
  },
  {
   "cell_type": "code",
   "execution_count": 2,
   "id": "edf401d5-1d9f-4917-9ccc-5d8d21e16e15",
   "metadata": {},
   "outputs": [
    {
     "name": "stderr",
     "output_type": "stream",
     "text": [
      "\n",
      "\n",
      "====== WebDriver manager ======\n",
      "Current google-chrome version is 93.0.4577\n",
      "Get LATEST driver version for 93.0.4577\n",
      "Driver [C:\\Users\\Hao\\.wdm\\drivers\\chromedriver\\win32\\93.0.4577.63\\chromedriver.exe] found in cache\n"
     ]
    }
   ],
   "source": [
    "executable_path = {'executable_path': ChromeDriverManager().install()}\n",
    "browser = Browser('chrome', **executable_path, headless=False)"
   ]
  },
  {
   "cell_type": "code",
   "execution_count": 3,
   "id": "403ac932-1672-447f-8d71-aab8bc7a1167",
   "metadata": {},
   "outputs": [],
   "source": [
    "#NASA Mars News"
   ]
  },
  {
   "cell_type": "code",
   "execution_count": 4,
   "id": "0dbd5c5f-29de-48b5-97e8-a6b9a9b3e94d",
   "metadata": {
    "tags": []
   },
   "outputs": [],
   "source": [
    "browser.visit('https://redplanetscience.com/')\n",
    "time.sleep(5)"
   ]
  },
  {
   "cell_type": "code",
   "execution_count": 5,
   "id": "47e85f0e-5f5e-4a8c-8e59-5ac7949496d0",
   "metadata": {},
   "outputs": [],
   "source": [
    "news_html = browser.html\n",
    "soup = BeautifulSoup(news_html, 'html.parser')"
   ]
  },
  {
   "cell_type": "code",
   "execution_count": 6,
   "id": "4d06e88f-2e1a-4244-9a56-79c6bdc576d3",
   "metadata": {},
   "outputs": [],
   "source": [
    "results = soup.find_all('div', class_='list_text')"
   ]
  },
  {
   "cell_type": "code",
   "execution_count": 7,
   "id": "aa819471-0fe3-40a7-bdb1-7d85504aab31",
   "metadata": {},
   "outputs": [
    {
     "name": "stdout",
     "output_type": "stream",
     "text": [
      "-----------------\n",
      "Celebrate Mars Reconnaissance Orbiter's Views From Above\n",
      "Marking its 15th anniversary since launch, one of the oldest spacecraft at the Red Planet has provided glimpses of dust devils, avalanches, and more.\n",
      "-----------------\n",
      "Sensors on Mars 2020 Spacecraft Answer Long-Distance Call From Earth\n",
      "Instruments tailored to collect data during the descent of NASA's next rover through the Red Planet's atmosphere have been checked in flight.\n",
      "-----------------\n",
      "A Martian Roundtrip: NASA's Perseverance Rover Sample Tubes\n",
      "Marvels of engineering, the rover's sample tubes must be tough enough to safely bring Red Planet samples on the long journey back to Earth in immaculate condition. \n",
      "-----------------\n",
      "NASA's Curiosity Rover Finds an Ancient Oasis on Mars\n",
      "New evidence suggests salty, shallow ponds once dotted a Martian crater — a sign of the planet's drying climate.\n",
      "-----------------\n",
      "NASA's Treasure Map for Water Ice on Mars\n",
      "A new study identifies frozen water just below the Martian surface, where astronauts could easily dig it up.\n",
      "-----------------\n",
      "Mars Helicopter Attached to NASA's Perseverance Rover\n",
      "The team also fueled the rover's sky crane to get ready for this summer's history-making launch.\n",
      "-----------------\n",
      "NASA-JPL Names 'Rolling Stones Rock' on Mars\n",
      "NASA's Mars InSight mission honored one of the biggest bands of all time at Pasadena concert.\n",
      "-----------------\n",
      "With Mars Methane Mystery Unsolved, Curiosity Serves Scientists a New One: Oxygen\n",
      "For the first time in the history of space exploration, scientists have measured the seasonal changes in the gases that fill the air directly above the surface of Gale Crater on Mars. \n",
      "-----------------\n",
      "NASA's Perseverance Rover Will Look at Mars Through These 'Eyes'\n",
      "A pair of zoomable cameras will help scientists and rover drivers with high-resolution color images.\n",
      "-----------------\n",
      "NASA's Mars 2020 Will Hunt for Microscopic Fossils\n",
      "A new paper identifies a ring of minerals at the rover's landing site that are ideal for fossilizing microbial life.\n",
      "-----------------\n",
      "NASA Readies Perseverance Mars Rover's Earthly Twin \n",
      "Did you know NASA's next Mars rover has a nearly identical sibling on Earth for testing? Even better, it's about to roll for the first time through a replica Martian landscape.\n",
      "-----------------\n",
      "NASA's Mars Perseverance Rover Passes Flight Readiness Review\n",
      "​The agency's Mars 2020 mission has one more big prelaunch review – the Launch Readiness Review, on July 27.\n",
      "-----------------\n",
      "NASA's Mars Reconnaissance Orbiter Undergoes Memory Update\n",
      "Other orbiters will continue relaying data from Mars surface missions for a two-week period.\n",
      "-----------------\n",
      "Hear Audio From NASA's Perseverance As It Travels Through Deep Space\n",
      "The first to be rigged with microphones, the agency's latest Mars rover picked up the subtle sounds of its own inner workings during interplanetary flight.\n",
      "-----------------\n",
      "NASA's Mars 2020 Rover Tests Descent-Stage Separation\n",
      "A crane lifts the rocket-powered descent stage away from NASA's Mars 2020 rover after technicians tested the pyrotechnic charges that separate the two spacecraft.\n"
     ]
    }
   ],
   "source": [
    "#find the elements for the variable news_title and news_p\n",
    "for result in results:\n",
    "        news_title = result.find('div', class_='content_title').text\n",
    "        news_p = result.find('div', class_='article_teaser_body').text\n",
    "        \n",
    "        print('-----------------')\n",
    "        print(news_title)\n",
    "        print(news_p)"
   ]
  },
  {
   "cell_type": "code",
   "execution_count": 8,
   "id": "8d52e071-5b32-4ef5-b078-9c0a94cfbaf2",
   "metadata": {},
   "outputs": [],
   "source": [
    "#JPL Mars Space Images below"
   ]
  },
  {
   "cell_type": "code",
   "execution_count": 9,
   "id": "54edf6e6-91ba-4acf-b461-9877c8efca56",
   "metadata": {},
   "outputs": [],
   "source": [
    "browser.visit('https://spaceimages-mars.com/')"
   ]
  },
  {
   "cell_type": "code",
   "execution_count": 10,
   "id": "b72eb3a3-407b-4452-9c7f-1d5d4f701bb5",
   "metadata": {},
   "outputs": [],
   "source": [
    "baseurl = 'https://spaceimages-mars.com/'"
   ]
  },
  {
   "cell_type": "code",
   "execution_count": 11,
   "id": "99a75552-9fa2-4c28-a79f-9a0f5035da52",
   "metadata": {},
   "outputs": [],
   "source": [
    "browser.links.find_by_partial_text('FULL IMAGE').click()"
   ]
  },
  {
   "cell_type": "code",
   "execution_count": 12,
   "id": "32bf4350-a1f8-4ee3-8f78-20e911bfcd5a",
   "metadata": {},
   "outputs": [],
   "source": [
    "image_html = browser.html\n",
    "image_soup = BeautifulSoup(image_html, 'html.parser')"
   ]
  },
  {
   "cell_type": "code",
   "execution_count": 13,
   "id": "9fe66af2-f3c7-4b79-b40c-cd5c81932de8",
   "metadata": {},
   "outputs": [],
   "source": [
    "#Find the image element for the variable image_results\n",
    "image_results = image_soup.find('img', class_='fancybox-image')['src']"
   ]
  },
  {
   "cell_type": "code",
   "execution_count": 14,
   "id": "23419c71-6158-4b44-9908-83cd6567500f",
   "metadata": {},
   "outputs": [
    {
     "data": {
      "text/plain": [
       "'https://spaceimages-mars.com/image/featured/mars3.jpg'"
      ]
     },
     "execution_count": 14,
     "metadata": {},
     "output_type": "execute_result"
    }
   ],
   "source": [
    "featured_image_url = baseurl + image_results\n",
    "featured_image_url "
   ]
  },
  {
   "cell_type": "code",
   "execution_count": 15,
   "id": "c373271a-161d-402e-96e1-8a5687437418",
   "metadata": {},
   "outputs": [],
   "source": [
    "#Mars Facts"
   ]
  },
  {
   "cell_type": "code",
   "execution_count": 16,
   "id": "97efeba4-8646-4c5c-8755-9dfbe97be75a",
   "metadata": {},
   "outputs": [],
   "source": [
    "browser.visit('https://galaxyfacts-mars.com')"
   ]
  },
  {
   "cell_type": "code",
   "execution_count": 27,
   "id": "ca3f5c2a-7c8d-48b3-9f4a-a347a1453dc9",
   "metadata": {},
   "outputs": [],
   "source": [
    "#Directly read the html of the url\n",
    "facts=pd.read_html('https://galaxyfacts-mars.com')"
   ]
  },
  {
   "cell_type": "code",
   "execution_count": 36,
   "id": "302a4724-b66a-4698-b55e-4f813ac2fcd2",
   "metadata": {},
   "outputs": [
    {
     "data": {
      "text/html": [
       "<div>\n",
       "<style scoped>\n",
       "    .dataframe tbody tr th:only-of-type {\n",
       "        vertical-align: middle;\n",
       "    }\n",
       "\n",
       "    .dataframe tbody tr th {\n",
       "        vertical-align: top;\n",
       "    }\n",
       "\n",
       "    .dataframe thead th {\n",
       "        text-align: right;\n",
       "    }\n",
       "</style>\n",
       "<table border=\"1\" class=\"dataframe\">\n",
       "  <thead>\n",
       "    <tr style=\"text-align: right;\">\n",
       "      <th></th>\n",
       "      <th>0</th>\n",
       "      <th>1</th>\n",
       "      <th>2</th>\n",
       "    </tr>\n",
       "  </thead>\n",
       "  <tbody>\n",
       "    <tr>\n",
       "      <th>0</th>\n",
       "      <td>Mars - Earth Comparison</td>\n",
       "      <td>Mars</td>\n",
       "      <td>Earth</td>\n",
       "    </tr>\n",
       "    <tr>\n",
       "      <th>1</th>\n",
       "      <td>Diameter:</td>\n",
       "      <td>6,779 km</td>\n",
       "      <td>12,742 km</td>\n",
       "    </tr>\n",
       "    <tr>\n",
       "      <th>2</th>\n",
       "      <td>Mass:</td>\n",
       "      <td>6.39 × 10^23 kg</td>\n",
       "      <td>5.97 × 10^24 kg</td>\n",
       "    </tr>\n",
       "    <tr>\n",
       "      <th>3</th>\n",
       "      <td>Moons:</td>\n",
       "      <td>2</td>\n",
       "      <td>1</td>\n",
       "    </tr>\n",
       "    <tr>\n",
       "      <th>4</th>\n",
       "      <td>Distance from Sun:</td>\n",
       "      <td>227,943,824 km</td>\n",
       "      <td>149,598,262 km</td>\n",
       "    </tr>\n",
       "    <tr>\n",
       "      <th>5</th>\n",
       "      <td>Length of Year:</td>\n",
       "      <td>687 Earth days</td>\n",
       "      <td>365.24 days</td>\n",
       "    </tr>\n",
       "    <tr>\n",
       "      <th>6</th>\n",
       "      <td>Temperature:</td>\n",
       "      <td>-87 to -5 °C</td>\n",
       "      <td>-88 to 58°C</td>\n",
       "    </tr>\n",
       "  </tbody>\n",
       "</table>\n",
       "</div>"
      ],
      "text/plain": [
       "                         0                1                2\n",
       "0  Mars - Earth Comparison             Mars            Earth\n",
       "1                Diameter:         6,779 km        12,742 km\n",
       "2                    Mass:  6.39 × 10^23 kg  5.97 × 10^24 kg\n",
       "3                   Moons:                2                1\n",
       "4       Distance from Sun:   227,943,824 km   149,598,262 km\n",
       "5          Length of Year:   687 Earth days      365.24 days\n",
       "6             Temperature:     -87 to -5 °C      -88 to 58°C"
      ]
     },
     "execution_count": 36,
     "metadata": {},
     "output_type": "execute_result"
    }
   ],
   "source": [
    "#Assign the fact table #1 to the variable mars_facts\n",
    "mars_facts = facts[0]\n",
    "mars_facts"
   ]
  },
  {
   "cell_type": "code",
   "execution_count": 38,
   "id": "f7606b36-5ac5-4487-98c3-2050ad7cdd82",
   "metadata": {},
   "outputs": [
    {
     "data": {
      "text/plain": [
       "'<table border=\"1\" class=\"dataframe\">\\n  <thead>\\n    <tr style=\"text-align: right;\">\\n      <th></th>\\n      <th>0</th>\\n      <th>1</th>\\n      <th>2</th>\\n    </tr>\\n  </thead>\\n  <tbody>\\n    <tr>\\n      <th>0</th>\\n      <td>Mars - Earth Comparison</td>\\n      <td>Mars</td>\\n      <td>Earth</td>\\n    </tr>\\n    <tr>\\n      <th>1</th>\\n      <td>Diameter:</td>\\n      <td>6,779 km</td>\\n      <td>12,742 km</td>\\n    </tr>\\n    <tr>\\n      <th>2</th>\\n      <td>Mass:</td>\\n      <td>6.39 × 10^23 kg</td>\\n      <td>5.97 × 10^24 kg</td>\\n    </tr>\\n    <tr>\\n      <th>3</th>\\n      <td>Moons:</td>\\n      <td>2</td>\\n      <td>1</td>\\n    </tr>\\n    <tr>\\n      <th>4</th>\\n      <td>Distance from Sun:</td>\\n      <td>227,943,824 km</td>\\n      <td>149,598,262 km</td>\\n    </tr>\\n    <tr>\\n      <th>5</th>\\n      <td>Length of Year:</td>\\n      <td>687 Earth days</td>\\n      <td>365.24 days</td>\\n    </tr>\\n    <tr>\\n      <th>6</th>\\n      <td>Temperature:</td>\\n      <td>-87 to -5 °C</td>\\n      <td>-88 to 58°C</td>\\n    </tr>\\n  </tbody>\\n</table>'"
      ]
     },
     "execution_count": 38,
     "metadata": {},
     "output_type": "execute_result"
    }
   ],
   "source": [
    "#Render mars_facts into raw html code\n",
    "mars_fact_table = mars_facts.to_html()\n",
    "mars_fact_table"
   ]
  },
  {
   "cell_type": "code",
   "execution_count": 23,
   "id": "6dea9495-9bf0-4ce1-babf-ba527fc1100c",
   "metadata": {},
   "outputs": [],
   "source": [
    "#Mars Hemispheres"
   ]
  },
  {
   "cell_type": "code",
   "execution_count": 39,
   "id": "556f0d75-1962-4ede-90b2-ce02bce3b0ff",
   "metadata": {},
   "outputs": [],
   "source": [
    "url = 'https://marshemispheres.com/'\n",
    "browser.visit(url)"
   ]
  },
  {
   "cell_type": "code",
   "execution_count": 41,
   "id": "fa9c8c8e-3e04-47b0-b1a1-857519e5a244",
   "metadata": {},
   "outputs": [],
   "source": [
    "hemispheres_html = browser.html\n",
    "soup = BeautifulSoup(hemispheres_html, 'html.parser')\n",
    "hemisphere_image_urls = []"
   ]
  },
  {
   "cell_type": "code",
   "execution_count": 42,
   "id": "afd35216-15f8-4bfd-8be7-5cf94e6d31d0",
   "metadata": {},
   "outputs": [],
   "source": [
    "#Find all items within div class\n",
    "hemispheres = soup.find_all('div', class_='item')"
   ]
  },
  {
   "cell_type": "code",
   "execution_count": 43,
   "id": "fc6af307-e724-4f1c-9820-36f462fde3f8",
   "metadata": {},
   "outputs": [
    {
     "data": {
      "text/plain": [
       "[{'title': 'Cerberus Hemisphere Enhanced',\n",
       "  'img_url': 'https://marshemispheres.com/images/full.jpg'},\n",
       " {'title': 'Schiaparelli Hemisphere Enhanced',\n",
       "  'img_url': 'https://marshemispheres.com/images/schiaparelli_enhanced-full.jpg'},\n",
       " {'title': 'Syrtis Major Hemisphere Enhanced',\n",
       "  'img_url': 'https://marshemispheres.com/images/syrtis_major_enhanced-full.jpg'},\n",
       " {'title': 'Valles Marineris Hemisphere Enhanced',\n",
       "  'img_url': 'https://marshemispheres.com/images/valles_marineris_enhanced-full.jpg'}]"
      ]
     },
     "execution_count": 43,
     "metadata": {},
     "output_type": "execute_result"
    }
   ],
   "source": [
    "#Loop and find the largest image and assign it to the variable hemisphere_image_urls\n",
    "for hemisphere in hemispheres:\n",
    "    hemisphere_header = hemisphere.h3.text.strip()\n",
    "    hemisphere_url = hemisphere.a['href']\n",
    "    browser.visit(url + hemisphere_url)\n",
    "    hemisphere_html = browser.html\n",
    "    hemisphere_soup = BeautifulSoup(hemisphere_html, 'html.parser')\n",
    "    hemisphere_finder = hemisphere_soup.find('div', id='wide-image')\n",
    "    hemisphere_finder2 = hemisphere_finder.find('a', target='_blank')['href']\n",
    "    hemisphere_image_url = url +  hemisphere_finder2\n",
    "    hemisphere_image_urls.append({\"title\":hemisphere_header, \"img_url\":hemisphere_image_url})\n",
    "    browser.links.find_by_partial_text('Back').click()\n",
    "    time.sleep(1)\n",
    "        \n",
    "hemisphere_image_urls"
   ]
  },
  {
   "cell_type": "code",
   "execution_count": 51,
   "id": "c40ee0cb-5c30-4109-a6b8-932e01d39dbb",
   "metadata": {},
   "outputs": [],
   "source": [
    "#The variable mars_html will contain all of the scraped data above\n",
    "mars_data = {\n",
    "\"news_title\":news_title,\n",
    "\"news_p\": news_p,\n",
    "\"featured_image_url\": featured_image_url,\n",
    "\"facts\":mars_fact_table,\n",
    "\"hemispheres\":hemisphere_image_urls\n",
    "}"
   ]
  },
  {
   "cell_type": "code",
   "execution_count": 52,
   "id": "6a5733b1-6e4a-4609-8b28-d5e73baff41d",
   "metadata": {},
   "outputs": [
    {
     "data": {
      "text/plain": [
       "{'news_title': \"NASA's Mars 2020 Rover Tests Descent-Stage Separation\",\n",
       " 'news_p': \"A crane lifts the rocket-powered descent stage away from NASA's Mars 2020 rover after technicians tested the pyrotechnic charges that separate the two spacecraft.\",\n",
       " 'featured_image_url': 'https://spaceimages-mars.com/image/featured/mars3.jpg',\n",
       " 'facts': '<table border=\"1\" class=\"dataframe\">\\n  <thead>\\n    <tr style=\"text-align: right;\">\\n      <th></th>\\n      <th>0</th>\\n      <th>1</th>\\n      <th>2</th>\\n    </tr>\\n  </thead>\\n  <tbody>\\n    <tr>\\n      <th>0</th>\\n      <td>Mars - Earth Comparison</td>\\n      <td>Mars</td>\\n      <td>Earth</td>\\n    </tr>\\n    <tr>\\n      <th>1</th>\\n      <td>Diameter:</td>\\n      <td>6,779 km</td>\\n      <td>12,742 km</td>\\n    </tr>\\n    <tr>\\n      <th>2</th>\\n      <td>Mass:</td>\\n      <td>6.39 × 10^23 kg</td>\\n      <td>5.97 × 10^24 kg</td>\\n    </tr>\\n    <tr>\\n      <th>3</th>\\n      <td>Moons:</td>\\n      <td>2</td>\\n      <td>1</td>\\n    </tr>\\n    <tr>\\n      <th>4</th>\\n      <td>Distance from Sun:</td>\\n      <td>227,943,824 km</td>\\n      <td>149,598,262 km</td>\\n    </tr>\\n    <tr>\\n      <th>5</th>\\n      <td>Length of Year:</td>\\n      <td>687 Earth days</td>\\n      <td>365.24 days</td>\\n    </tr>\\n    <tr>\\n      <th>6</th>\\n      <td>Temperature:</td>\\n      <td>-87 to -5 °C</td>\\n      <td>-88 to 58°C</td>\\n    </tr>\\n  </tbody>\\n</table>',\n",
       " 'hemispheres': [{'title': 'Cerberus Hemisphere Enhanced',\n",
       "   'img_url': 'https://marshemispheres.com/images/full.jpg'},\n",
       "  {'title': 'Schiaparelli Hemisphere Enhanced',\n",
       "   'img_url': 'https://marshemispheres.com/images/schiaparelli_enhanced-full.jpg'},\n",
       "  {'title': 'Syrtis Major Hemisphere Enhanced',\n",
       "   'img_url': 'https://marshemispheres.com/images/syrtis_major_enhanced-full.jpg'},\n",
       "  {'title': 'Valles Marineris Hemisphere Enhanced',\n",
       "   'img_url': 'https://marshemispheres.com/images/valles_marineris_enhanced-full.jpg'}]}"
      ]
     },
     "execution_count": 52,
     "metadata": {},
     "output_type": "execute_result"
    }
   ],
   "source": [
    "mars_data"
   ]
  },
  {
   "cell_type": "code",
   "execution_count": 53,
   "id": "aa62df7d-c63a-4e2d-b1a4-dfb6f1170778",
   "metadata": {},
   "outputs": [
    {
     "data": {
      "text/plain": [
       "<pymongo.results.InsertOneResult at 0x181e6915948>"
      ]
     },
     "execution_count": 53,
     "metadata": {},
     "output_type": "execute_result"
    }
   ],
   "source": [
    "#Import to Mongo\n",
    "conn = 'mongodb://localhost:27017'\n",
    "client = pymongo.MongoClient(conn)\n",
    "\n",
    "db = client.mars_db\n",
    "\n",
    "facts = db.facts\n",
    "\n",
    "db.facts.drop()\n",
    "\n",
    "post = mars_data\n",
    "\n",
    "facts.insert_one(post)\n",
    "\n"
   ]
  },
  {
   "cell_type": "code",
   "execution_count": 54,
   "id": "5c1fadfb-7f42-4f90-976a-240642bbf990",
   "metadata": {},
   "outputs": [
    {
     "name": "stdout",
     "output_type": "stream",
     "text": [
      "{'_id': ObjectId('613e27bfe8a10602c4a5b0cd'), 'news_title': \"NASA's Mars 2020 Rover Tests Descent-Stage Separation\", 'news_p': \"A crane lifts the rocket-powered descent stage away from NASA's Mars 2020 rover after technicians tested the pyrotechnic charges that separate the two spacecraft.\", 'featured_image_url': 'https://spaceimages-mars.com/image/featured/mars3.jpg', 'facts': '<table border=\"1\" class=\"dataframe\">\\n  <thead>\\n    <tr style=\"text-align: right;\">\\n      <th></th>\\n      <th>0</th>\\n      <th>1</th>\\n      <th>2</th>\\n    </tr>\\n  </thead>\\n  <tbody>\\n    <tr>\\n      <th>0</th>\\n      <td>Mars - Earth Comparison</td>\\n      <td>Mars</td>\\n      <td>Earth</td>\\n    </tr>\\n    <tr>\\n      <th>1</th>\\n      <td>Diameter:</td>\\n      <td>6,779 km</td>\\n      <td>12,742 km</td>\\n    </tr>\\n    <tr>\\n      <th>2</th>\\n      <td>Mass:</td>\\n      <td>6.39 × 10^23 kg</td>\\n      <td>5.97 × 10^24 kg</td>\\n    </tr>\\n    <tr>\\n      <th>3</th>\\n      <td>Moons:</td>\\n      <td>2</td>\\n      <td>1</td>\\n    </tr>\\n    <tr>\\n      <th>4</th>\\n      <td>Distance from Sun:</td>\\n      <td>227,943,824 km</td>\\n      <td>149,598,262 km</td>\\n    </tr>\\n    <tr>\\n      <th>5</th>\\n      <td>Length of Year:</td>\\n      <td>687 Earth days</td>\\n      <td>365.24 days</td>\\n    </tr>\\n    <tr>\\n      <th>6</th>\\n      <td>Temperature:</td>\\n      <td>-87 to -5 °C</td>\\n      <td>-88 to 58°C</td>\\n    </tr>\\n  </tbody>\\n</table>', 'hemispheres': [{'title': 'Cerberus Hemisphere Enhanced', 'img_url': 'https://marshemispheres.com/images/full.jpg'}, {'title': 'Schiaparelli Hemisphere Enhanced', 'img_url': 'https://marshemispheres.com/images/schiaparelli_enhanced-full.jpg'}, {'title': 'Syrtis Major Hemisphere Enhanced', 'img_url': 'https://marshemispheres.com/images/syrtis_major_enhanced-full.jpg'}, {'title': 'Valles Marineris Hemisphere Enhanced', 'img_url': 'https://marshemispheres.com/images/valles_marineris_enhanced-full.jpg'}]}\n"
     ]
    }
   ],
   "source": [
    "results = facts.find()\n",
    "for result in results:\n",
    "    print(result)"
   ]
  },
  {
   "cell_type": "code",
   "execution_count": null,
   "id": "b9f91741-9128-48d2-b719-7040e5f93167",
   "metadata": {},
   "outputs": [],
   "source": []
  }
 ],
 "metadata": {
  "kernelspec": {
   "display_name": "Python 3",
   "language": "python",
   "name": "python3"
  },
  "language_info": {
   "codemirror_mode": {
    "name": "ipython",
    "version": 3
   },
   "file_extension": ".py",
   "mimetype": "text/x-python",
   "name": "python",
   "nbconvert_exporter": "python",
   "pygments_lexer": "ipython3",
   "version": "3.7.10"
  }
 },
 "nbformat": 4,
 "nbformat_minor": 5
}
